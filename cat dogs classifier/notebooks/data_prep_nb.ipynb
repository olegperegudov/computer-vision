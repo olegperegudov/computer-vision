{
 "metadata": {
  "language_info": {
   "codemirror_mode": {
    "name": "ipython",
    "version": 3
   },
   "file_extension": ".py",
   "mimetype": "text/x-python",
   "name": "python",
   "nbconvert_exporter": "python",
   "pygments_lexer": "ipython3",
   "version": "3.9.2-final"
  },
  "orig_nbformat": 2,
  "kernelspec": {
   "name": "python392jvsc74a57bd0bd47a18303be29f6974e8153b6e52f9a90ee51d979b528b256bf5f0592078974",
   "display_name": "Python 3.9.2 64-bit"
  },
  "metadata": {
   "interpreter": {
    "hash": "bd47a18303be29f6974e8153b6e52f9a90ee51d979b528b256bf5f0592078974"
   }
  }
 },
 "nbformat": 4,
 "nbformat_minor": 2,
 "cells": [
  {
   "cell_type": "code",
   "execution_count": 2,
   "metadata": {},
   "outputs": [],
   "source": [
    "import os\n",
    "import pandas as pd\n",
    "import cv2\n",
    "import numpy as np\n",
    "\n",
    "import config"
   ]
  },
  {
   "cell_type": "code",
   "execution_count": 3,
   "metadata": {},
   "outputs": [],
   "source": [
    "# we will populate this predefined table\n",
    "\n",
    "df = pd.DataFrame(columns=['fname', 'height', 'width', 'info', 'xmin', 'ymin', 'xmax', 'ymax', 'label'])"
   ]
  },
  {
   "cell_type": "code",
   "execution_count": 4,
   "metadata": {
    "tags": []
   },
   "outputs": [],
   "source": [
    "# # walking image folder and constructing the df\n",
    "\n",
    "# image_fnames = []\n",
    "# image_info = []\n",
    "# image_height = []\n",
    "# image_width = []\n",
    "\n",
    "# for _, _, fnames in os.walk(config.DATA):\n",
    "#     # print(fnames[:4])\n",
    "#     for fname in fnames:\n",
    "#         extension = fname.split(\".\")[-1].lower()\n",
    "#         FILE_PATH = os.path.join(config.DATA, fname)\n",
    "#         # we will need full path + fname later\n",
    "#         if extension == 'jpg':\n",
    "#             img = cv2.imread(FILE_PATH)\n",
    "#             h, w, c = img.shape\n",
    "#             image_height.append(h)\n",
    "#             image_width.append(w)\n",
    "#             image_fnames.append(fname)\n",
    "#         # extract data from the txt file\n",
    "#         if extension == \"txt\":\n",
    "#             with open(FILE_PATH) as file:\n",
    "#                 txt = file.readlines()\n",
    "#                 image_info.append(txt)"
   ]
  },
  {
   "cell_type": "code",
   "execution_count": 5,
   "metadata": {},
   "outputs": [],
   "source": [
    "# pushing the data collected with os.walk to the df\n",
    "df['fname'] = [(os.path.join(config.DATA, fname)) for fname in image_fnames]\n",
    "df['info'] = image_info\n",
    "df['height'] = image_height\n",
    "df['width'] = image_width"
   ]
  },
  {
   "cell_type": "code",
   "execution_count": 6,
   "metadata": {},
   "outputs": [],
   "source": [
    "# # parsing the string data. Making the df pretty\n",
    "\n",
    "# xmin_list = []\n",
    "# ymin_list = []\n",
    "# xmax_list = []\n",
    "# ymax_list = []\n",
    "# label_list = []\n",
    "\n",
    "# for row in df['info']:\n",
    "#     for txt in row:\n",
    "#         splitted_text = txt.split(' ')\n",
    "#         xmin_list.append(int(splitted_text[1]))\n",
    "#         ymin_list.append(int(splitted_text[2]))\n",
    "#         xmax_list.append(int(splitted_text[3]))\n",
    "#         ymax_list.append(int(splitted_text[4]))\n",
    "#         label_list.append(int(splitted_text[0]))\n",
    "\n",
    "# df.xmin = xmin_list\n",
    "# df.ymin = ymin_list\n",
    "# df.xmax = xmax_list\n",
    "# df.ymax = ymax_list\n",
    "# df.label = label_list\n",
    "\n",
    "# df.label = df.label.map({1:1, 2:0})"
   ]
  },
  {
   "cell_type": "code",
   "execution_count": 7,
   "metadata": {},
   "outputs": [
    {
     "output_type": "execute_result",
     "data": {
      "text/plain": [
       "                                               fname  height  width  \\\n",
       "0  c:\\Users\\Oleg\\Google Drive\\Projects\\cv\\cat dog...     400    600   \n",
       "1  c:\\Users\\Oleg\\Google Drive\\Projects\\cv\\cat dog...     500    375   \n",
       "2  c:\\Users\\Oleg\\Google Drive\\Projects\\cv\\cat dog...     500    394   \n",
       "3  c:\\Users\\Oleg\\Google Drive\\Projects\\cv\\cat dog...     313    450   \n",
       "4  c:\\Users\\Oleg\\Google Drive\\Projects\\cv\\cat dog...     465    500   \n",
       "\n",
       "                 info  xmin  ymin  xmax  ymax  label  \n",
       "0  [1 333 72 425 158]   333    72   425   158      1  \n",
       "1  [1 72 105 288 291]    72   105   288   291      1  \n",
       "2  [1 151 71 335 267]   151    71   335   267      1  \n",
       "3   [1 54 36 319 235]    54    36   319   235      1  \n",
       "4   [1 23 27 325 320]    23    27   325   320      1  "
      ],
      "text/html": "<div>\n<style scoped>\n    .dataframe tbody tr th:only-of-type {\n        vertical-align: middle;\n    }\n\n    .dataframe tbody tr th {\n        vertical-align: top;\n    }\n\n    .dataframe thead th {\n        text-align: right;\n    }\n</style>\n<table border=\"1\" class=\"dataframe\">\n  <thead>\n    <tr style=\"text-align: right;\">\n      <th></th>\n      <th>fname</th>\n      <th>height</th>\n      <th>width</th>\n      <th>info</th>\n      <th>xmin</th>\n      <th>ymin</th>\n      <th>xmax</th>\n      <th>ymax</th>\n      <th>label</th>\n    </tr>\n  </thead>\n  <tbody>\n    <tr>\n      <th>0</th>\n      <td>c:\\Users\\Oleg\\Google Drive\\Projects\\cv\\cat dog...</td>\n      <td>400</td>\n      <td>600</td>\n      <td>[1 333 72 425 158]</td>\n      <td>333</td>\n      <td>72</td>\n      <td>425</td>\n      <td>158</td>\n      <td>1</td>\n    </tr>\n    <tr>\n      <th>1</th>\n      <td>c:\\Users\\Oleg\\Google Drive\\Projects\\cv\\cat dog...</td>\n      <td>500</td>\n      <td>375</td>\n      <td>[1 72 105 288 291]</td>\n      <td>72</td>\n      <td>105</td>\n      <td>288</td>\n      <td>291</td>\n      <td>1</td>\n    </tr>\n    <tr>\n      <th>2</th>\n      <td>c:\\Users\\Oleg\\Google Drive\\Projects\\cv\\cat dog...</td>\n      <td>500</td>\n      <td>394</td>\n      <td>[1 151 71 335 267]</td>\n      <td>151</td>\n      <td>71</td>\n      <td>335</td>\n      <td>267</td>\n      <td>1</td>\n    </tr>\n    <tr>\n      <th>3</th>\n      <td>c:\\Users\\Oleg\\Google Drive\\Projects\\cv\\cat dog...</td>\n      <td>313</td>\n      <td>450</td>\n      <td>[1 54 36 319 235]</td>\n      <td>54</td>\n      <td>36</td>\n      <td>319</td>\n      <td>235</td>\n      <td>1</td>\n    </tr>\n    <tr>\n      <th>4</th>\n      <td>c:\\Users\\Oleg\\Google Drive\\Projects\\cv\\cat dog...</td>\n      <td>465</td>\n      <td>500</td>\n      <td>[1 23 27 325 320]</td>\n      <td>23</td>\n      <td>27</td>\n      <td>325</td>\n      <td>320</td>\n      <td>1</td>\n    </tr>\n  </tbody>\n</table>\n</div>"
     },
     "metadata": {},
     "execution_count": 7
    }
   ],
   "source": [
    "df.head()"
   ]
  },
  {
   "cell_type": "code",
   "execution_count": 8,
   "metadata": {},
   "outputs": [
    {
     "output_type": "execute_result",
     "data": {
      "text/plain": [
       "'c:\\\\Users\\\\Oleg\\\\Google Drive\\\\Projects\\\\cv\\\\cat dogs classifier\\\\data\\\\Abyssinian_1.jpg'"
      ]
     },
     "metadata": {},
     "execution_count": 8
    }
   ],
   "source": [
    "df.iloc[0][0]"
   ]
  },
  {
   "cell_type": "code",
   "execution_count": 9,
   "metadata": {},
   "outputs": [],
   "source": [
    "# shuffle data\n",
    "df = df.sample(frac=1).reset_index(drop=True)"
   ]
  },
  {
   "cell_type": "code",
   "execution_count": 10,
   "metadata": {},
   "outputs": [],
   "source": [
    "# df.to_csv('train_data.csv')"
   ]
  },
  {
   "cell_type": "code",
   "execution_count": 16,
   "metadata": {},
   "outputs": [],
   "source": [
    "df = pd.read_csv(config.DF_PATH, usecols=['fname',  \n",
    "                               'xmin_coco', 'ymin_coco', 'xmax_coco', 'ymax_coco',\n",
    "                               'xmin_alb', 'ymin_alb', 'xmax_alb', 'ymax_alb', \n",
    "                               'label'])"
   ]
  },
  {
   "cell_type": "code",
   "execution_count": 17,
   "metadata": {},
   "outputs": [
    {
     "output_type": "execute_result",
     "data": {
      "text/plain": [
       "                                               fname  xmin_coco  ymin_coco  \\\n",
       "0  C:\\Users\\Oleg\\Google Drive\\Projects\\cv\\cat dog...        333         72   \n",
       "1  C:\\Users\\Oleg\\Google Drive\\Projects\\cv\\cat dog...         72        105   \n",
       "2  C:\\Users\\Oleg\\Google Drive\\Projects\\cv\\cat dog...        151         71   \n",
       "3  C:\\Users\\Oleg\\Google Drive\\Projects\\cv\\cat dog...         54         36   \n",
       "4  C:\\Users\\Oleg\\Google Drive\\Projects\\cv\\cat dog...         23         27   \n",
       "\n",
       "   xmax_coco  ymax_coco  xmin_alb  ymin_alb  xmax_alb  ymax_alb  label  \n",
       "0        425        158  0.555000  0.180000  0.708333  0.395000      1  \n",
       "1        288        291  0.192000  0.210000  0.768000  0.582000      1  \n",
       "2        335        267  0.383249  0.142000  0.850254  0.534000      1  \n",
       "3        319        235  0.120000  0.115016  0.708889  0.750799      1  \n",
       "4        325        320  0.046000  0.058065  0.650000  0.688172      1  "
      ],
      "text/html": "<div>\n<style scoped>\n    .dataframe tbody tr th:only-of-type {\n        vertical-align: middle;\n    }\n\n    .dataframe tbody tr th {\n        vertical-align: top;\n    }\n\n    .dataframe thead th {\n        text-align: right;\n    }\n</style>\n<table border=\"1\" class=\"dataframe\">\n  <thead>\n    <tr style=\"text-align: right;\">\n      <th></th>\n      <th>fname</th>\n      <th>xmin_coco</th>\n      <th>ymin_coco</th>\n      <th>xmax_coco</th>\n      <th>ymax_coco</th>\n      <th>xmin_alb</th>\n      <th>ymin_alb</th>\n      <th>xmax_alb</th>\n      <th>ymax_alb</th>\n      <th>label</th>\n    </tr>\n  </thead>\n  <tbody>\n    <tr>\n      <th>0</th>\n      <td>C:\\Users\\Oleg\\Google Drive\\Projects\\cv\\cat dog...</td>\n      <td>333</td>\n      <td>72</td>\n      <td>425</td>\n      <td>158</td>\n      <td>0.555000</td>\n      <td>0.180000</td>\n      <td>0.708333</td>\n      <td>0.395000</td>\n      <td>1</td>\n    </tr>\n    <tr>\n      <th>1</th>\n      <td>C:\\Users\\Oleg\\Google Drive\\Projects\\cv\\cat dog...</td>\n      <td>72</td>\n      <td>105</td>\n      <td>288</td>\n      <td>291</td>\n      <td>0.192000</td>\n      <td>0.210000</td>\n      <td>0.768000</td>\n      <td>0.582000</td>\n      <td>1</td>\n    </tr>\n    <tr>\n      <th>2</th>\n      <td>C:\\Users\\Oleg\\Google Drive\\Projects\\cv\\cat dog...</td>\n      <td>151</td>\n      <td>71</td>\n      <td>335</td>\n      <td>267</td>\n      <td>0.383249</td>\n      <td>0.142000</td>\n      <td>0.850254</td>\n      <td>0.534000</td>\n      <td>1</td>\n    </tr>\n    <tr>\n      <th>3</th>\n      <td>C:\\Users\\Oleg\\Google Drive\\Projects\\cv\\cat dog...</td>\n      <td>54</td>\n      <td>36</td>\n      <td>319</td>\n      <td>235</td>\n      <td>0.120000</td>\n      <td>0.115016</td>\n      <td>0.708889</td>\n      <td>0.750799</td>\n      <td>1</td>\n    </tr>\n    <tr>\n      <th>4</th>\n      <td>C:\\Users\\Oleg\\Google Drive\\Projects\\cv\\cat dog...</td>\n      <td>23</td>\n      <td>27</td>\n      <td>325</td>\n      <td>320</td>\n      <td>0.046000</td>\n      <td>0.058065</td>\n      <td>0.650000</td>\n      <td>0.688172</td>\n      <td>1</td>\n    </tr>\n  </tbody>\n</table>\n</div>"
     },
     "metadata": {},
     "execution_count": 17
    }
   ],
   "source": [
    "df.head()"
   ]
  },
  {
   "cell_type": "code",
   "execution_count": null,
   "metadata": {},
   "outputs": [],
   "source": []
  }
 ]
}