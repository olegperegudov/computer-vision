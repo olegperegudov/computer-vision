{
 "metadata": {
  "language_info": {
   "codemirror_mode": {
    "name": "ipython",
    "version": 3
   },
   "file_extension": ".py",
   "mimetype": "text/x-python",
   "name": "python",
   "nbconvert_exporter": "python",
   "pygments_lexer": "ipython3",
   "version": "3.9.2-final"
  },
  "orig_nbformat": 2,
  "kernelspec": {
   "name": "python392jvsc74a57bd0bd47a18303be29f6974e8153b6e52f9a90ee51d979b528b256bf5f0592078974",
   "display_name": "Python 3.9.2 64-bit"
  },
  "metadata": {
   "interpreter": {
    "hash": "bd47a18303be29f6974e8153b6e52f9a90ee51d979b528b256bf5f0592078974"
   }
  }
 },
 "nbformat": 4,
 "nbformat_minor": 2,
 "cells": [
  {
   "cell_type": "code",
   "execution_count": 110,
   "metadata": {},
   "outputs": [],
   "source": [
    "import os\n",
    "import pandas as pd"
   ]
  },
  {
   "cell_type": "code",
   "execution_count": 111,
   "metadata": {},
   "outputs": [],
   "source": [
    "df = pd.DataFrame(columns=['fname', 'info', 'xmin', 'ymin', 'xmax', 'ymax', 'label'])"
   ]
  },
  {
   "cell_type": "code",
   "execution_count": 112,
   "metadata": {},
   "outputs": [],
   "source": [
    "ROOT = os.getcwd()\n",
    "DATA = os.path.join(ROOT, 'data')"
   ]
  },
  {
   "cell_type": "code",
   "execution_count": 113,
   "metadata": {
    "tags": []
   },
   "outputs": [],
   "source": [
    "image_fnames = []\n",
    "image_info = []\n",
    "\n",
    "for _, _, fnames in os.walk(DATA):\n",
    "    for fname in fnames:\n",
    "        extension = fname.split(\".\")[-1].lower()\n",
    "        if extension == 'jpg':\n",
    "            image_fnames.append(fname)\n",
    "        if extension == \"txt\":\n",
    "            FILE_PATH = os.path.join(DATA, fname)\n",
    "            with open(FILE_PATH) as file:\n",
    "                txt = file.readlines()\n",
    "                image_info.append(txt)"
   ]
  },
  {
   "cell_type": "code",
   "execution_count": 114,
   "metadata": {},
   "outputs": [],
   "source": [
    "df['fname'] = [(DATA+fname) for fname in image_fnames]\n",
    "df['info'] = image_info"
   ]
  },
  {
   "cell_type": "code",
   "execution_count": 116,
   "metadata": {},
   "outputs": [],
   "source": [
    "xmin_list = []\n",
    "ymin_list = []\n",
    "xmax_list = []\n",
    "ymax_list = []\n",
    "label_list = []\n",
    "\n",
    "for row in df['info']:\n",
    "    for txt in row:\n",
    "        splitted_text = txt.split(' ')\n",
    "        xmin_list.append(splitted_text[1])\n",
    "        ymin_list.append(splitted_text[2])\n",
    "        xmax_list.append(splitted_text[3])\n",
    "        ymax_list.append(splitted_text[4])\n",
    "        label_list.append(splitted_text[0])\n",
    "\n",
    "df.xmin = xmin_list\n",
    "df.ymin = ymin_list\n",
    "df.xmax = xmax_list\n",
    "df.ymax = ymax_list\n",
    "df.label = label_list"
   ]
  },
  {
   "cell_type": "code",
   "execution_count": 117,
   "metadata": {},
   "outputs": [
    {
     "output_type": "execute_result",
     "data": {
      "text/plain": [
       "                                               fname                info xmin  \\\n",
       "0  c:\\Users\\Oleg\\Google Drive\\Projects\\cv\\cat dog...  [1 333 72 425 158]  333   \n",
       "1  c:\\Users\\Oleg\\Google Drive\\Projects\\cv\\cat dog...  [1 72 105 288 291]   72   \n",
       "2  c:\\Users\\Oleg\\Google Drive\\Projects\\cv\\cat dog...  [1 151 71 335 267]  151   \n",
       "3  c:\\Users\\Oleg\\Google Drive\\Projects\\cv\\cat dog...   [1 54 36 319 235]   54   \n",
       "4  c:\\Users\\Oleg\\Google Drive\\Projects\\cv\\cat dog...   [1 23 27 325 320]   23   \n",
       "\n",
       "  ymin xmax ymax label  \n",
       "0   72  425  158     1  \n",
       "1  105  288  291     1  \n",
       "2   71  335  267     1  \n",
       "3   36  319  235     1  \n",
       "4   27  325  320     1  "
      ],
      "text/html": "<div>\n<style scoped>\n    .dataframe tbody tr th:only-of-type {\n        vertical-align: middle;\n    }\n\n    .dataframe tbody tr th {\n        vertical-align: top;\n    }\n\n    .dataframe thead th {\n        text-align: right;\n    }\n</style>\n<table border=\"1\" class=\"dataframe\">\n  <thead>\n    <tr style=\"text-align: right;\">\n      <th></th>\n      <th>fname</th>\n      <th>info</th>\n      <th>xmin</th>\n      <th>ymin</th>\n      <th>xmax</th>\n      <th>ymax</th>\n      <th>label</th>\n    </tr>\n  </thead>\n  <tbody>\n    <tr>\n      <th>0</th>\n      <td>c:\\Users\\Oleg\\Google Drive\\Projects\\cv\\cat dog...</td>\n      <td>[1 333 72 425 158]</td>\n      <td>333</td>\n      <td>72</td>\n      <td>425</td>\n      <td>158</td>\n      <td>1</td>\n    </tr>\n    <tr>\n      <th>1</th>\n      <td>c:\\Users\\Oleg\\Google Drive\\Projects\\cv\\cat dog...</td>\n      <td>[1 72 105 288 291]</td>\n      <td>72</td>\n      <td>105</td>\n      <td>288</td>\n      <td>291</td>\n      <td>1</td>\n    </tr>\n    <tr>\n      <th>2</th>\n      <td>c:\\Users\\Oleg\\Google Drive\\Projects\\cv\\cat dog...</td>\n      <td>[1 151 71 335 267]</td>\n      <td>151</td>\n      <td>71</td>\n      <td>335</td>\n      <td>267</td>\n      <td>1</td>\n    </tr>\n    <tr>\n      <th>3</th>\n      <td>c:\\Users\\Oleg\\Google Drive\\Projects\\cv\\cat dog...</td>\n      <td>[1 54 36 319 235]</td>\n      <td>54</td>\n      <td>36</td>\n      <td>319</td>\n      <td>235</td>\n      <td>1</td>\n    </tr>\n    <tr>\n      <th>4</th>\n      <td>c:\\Users\\Oleg\\Google Drive\\Projects\\cv\\cat dog...</td>\n      <td>[1 23 27 325 320]</td>\n      <td>23</td>\n      <td>27</td>\n      <td>325</td>\n      <td>320</td>\n      <td>1</td>\n    </tr>\n  </tbody>\n</table>\n</div>"
     },
     "metadata": {},
     "execution_count": 117
    }
   ],
   "source": [
    "df.head()"
   ]
  },
  {
   "cell_type": "code",
   "execution_count": 118,
   "metadata": {},
   "outputs": [],
   "source": [
    "df.to_csv('train_data.csv')"
   ]
  },
  {
   "cell_type": "code",
   "execution_count": null,
   "metadata": {},
   "outputs": [],
   "source": []
  }
 ]
}