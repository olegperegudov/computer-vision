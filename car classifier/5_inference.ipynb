{
 "metadata": {
  "language_info": {
   "codemirror_mode": {
    "name": "ipython",
    "version": 3
   },
   "file_extension": ".py",
   "mimetype": "text/x-python",
   "name": "python",
   "nbconvert_exporter": "python",
   "pygments_lexer": "ipython3",
   "version": "3.9.2-final"
  },
  "orig_nbformat": 2,
  "kernelspec": {
   "name": "python3",
   "display_name": "Python 3.9.2 64-bit ('car_classifier-6RaCb5bF')",
   "metadata": {
    "interpreter": {
     "hash": "1e2a4d3c81111342c485ab25f323553a97b7f950fcfab2e3fe373b3145373733"
    }
   }
  }
 },
 "nbformat": 4,
 "nbformat_minor": 2,
 "cells": [
  {
   "cell_type": "code",
   "execution_count": null,
   "metadata": {},
   "outputs": [],
   "source": [
    "# this NB will run inference"
   ]
  },
  {
   "cell_type": "code",
   "execution_count": 18,
   "metadata": {},
   "outputs": [],
   "source": [
    "import torch\n",
    "from torch.utils.data import Dataset, DataLoader\n",
    "import torchvision\n",
    "from PIL import Image\n",
    "import ttach as tta\n",
    "\n",
    "import numpy as np\n",
    "\n",
    "import pandas as pd\n",
    "import urllib.request\n",
    "\n",
    "import albumentations as A\n",
    "import albumentations.pytorch"
   ]
  },
  {
   "cell_type": "code",
   "execution_count": 19,
   "metadata": {},
   "outputs": [],
   "source": [
    "# setting device to cuda if available\n",
    "device = torch.device('cuda' if torch.cuda.is_available() else 'cpu')"
   ]
  },
  {
   "cell_type": "code",
   "execution_count": 20,
   "metadata": {},
   "outputs": [],
   "source": [
    "presize = 224\n",
    "crop = 224\n",
    "\n",
    "num_workers = 0"
   ]
  },
  {
   "cell_type": "code",
   "execution_count": 21,
   "metadata": {},
   "outputs": [],
   "source": [
    "# classes the model was trained on\n",
    "classes = ['HYUNDAI_Sonata_Silver', 'MERCEDES-BENZ_E 350_Black',\n",
    "       'TOYOTA_Camry_Black', 'TOYOTA_Camry_White', 'TOYOTA_Prius_White']"
   ]
  },
  {
   "source": [
    "# loading the model"
   ],
   "cell_type": "markdown",
   "metadata": {}
  },
  {
   "cell_type": "code",
   "execution_count": 22,
   "metadata": {},
   "outputs": [],
   "source": [
    "def load_checkpoint(filepath):\n",
    "    \n",
    "    checkpoint = torch.load(filepath, map_location=device)\n",
    "    model = checkpoint['model']\n",
    "    model.load_state_dict(checkpoint['state_dict'])\n",
    "    for parameter in model.parameters():\n",
    "        parameter.requires_grad = False\n",
    "    \n",
    "    model.eval()\n",
    "    \n",
    "    return model\n",
    "\n",
    "model = load_checkpoint(r'checkpoint.pth')"
   ]
  },
  {
   "source": [
    "# dataset"
   ],
   "cell_type": "markdown",
   "metadata": {}
  },
  {
   "cell_type": "code",
   "execution_count": 23,
   "metadata": {},
   "outputs": [],
   "source": [
    "class dataset(Dataset):\n",
    "    def __init__(self, df, transforms=None):\n",
    "        self.df=df\n",
    "        self.transforms=transforms\n",
    "        \n",
    "    def __len__(self):\n",
    "        return self.df.shape[0]\n",
    "    \n",
    "    def __getitem__(self, index):\n",
    "        image = Image.open(self.df.fname[index]).convert('RGB')\n",
    "        image = np.array(image)\n",
    "        \n",
    "        label = torch.tensor(self.df.label[index]).long()\n",
    "        \n",
    "        if self.transforms:\n",
    "            augmentations = self.transforms(image=image)\n",
    "            image = augmentations['image']\n",
    "            \n",
    "        return image, label"
   ]
  },
  {
   "source": [
    "# transforms"
   ],
   "cell_type": "markdown",
   "metadata": {}
  },
  {
   "cell_type": "code",
   "execution_count": 24,
   "metadata": {},
   "outputs": [],
   "source": [
    "test_transforms = A.Compose([\n",
    "    A.SmallestMaxSize(presize),\n",
    "    A.CenterCrop(crop, crop),\n",
    "    A.Normalize(),\n",
    "    albumentations.pytorch.ToTensorV2()\n",
    "    ])"
   ]
  },
  {
   "source": [
    "# df builder"
   ],
   "cell_type": "markdown",
   "metadata": {}
  },
  {
   "cell_type": "code",
   "execution_count": 25,
   "metadata": {},
   "outputs": [],
   "source": [
    "# we will put every sample through our usuall pipeline we used when we built out model\n",
    "# this cell will build df\n",
    "def test_df_builder(url, filename='test.jpg'):\n",
    "\n",
    "    urllib.request.urlretrieve(url, filename)\n",
    "    test_df = pd.DataFrame({'fname': [filename], 'label':[1]})\n",
    "    \n",
    "    return test_df"
   ]
  },
  {
   "source": [
    "# predict function"
   ],
   "cell_type": "markdown",
   "metadata": {}
  },
  {
   "cell_type": "code",
   "execution_count": 26,
   "metadata": {},
   "outputs": [],
   "source": [
    "def predict(url, model=model, tta_switch=True, classes=classes):\n",
    "    \n",
    "    test_df = test_df_builder(url)\n",
    "    test_dataset = dataset(test_df, transforms=test_transforms)\n",
    "    test_loader = DataLoader(test_dataset, batch_size=1, shuffle=False, num_workers=num_workers)\n",
    "    \n",
    "    if tta:\n",
    "        \n",
    "        model = tta.ClassificationTTAWrapper(model, tta.aliases.five_crop_transform(int(crop*0.9), int(crop*0.9)))\n",
    "    \n",
    "    model.eval()\n",
    "    \n",
    "    with torch.no_grad():\n",
    "        \n",
    "        for batch, (images, labels) in enumerate(test_loader):\n",
    "            \n",
    "            images = images.to(device, non_blocking=True)\n",
    "            labels = labels.to(device, non_blocking=True)\n",
    "\n",
    "            outputs = model(images)\n",
    "            _, preds = torch.max(outputs, 1)\n",
    "            \n",
    "    return (classes[preds.item()])"
   ]
  },
  {
   "source": [
    "# try to predict (add your urls)"
   ],
   "cell_type": "markdown",
   "metadata": {}
  },
  {
   "cell_type": "code",
   "execution_count": 27,
   "metadata": {},
   "outputs": [],
   "source": [
    "# the results are accurate because the photos provided are representative of what was used for training (same distribution)\n",
    "# only about 400+ photos in total were used to train the model\n",
    "\n",
    "urls = [\n",
    "    'https://i.ytimg.com/vi/qyh8ZRMhLFk/maxresdefault.jpg',\n",
    "    'https://cdn-ds.com/blogs-media/sites/231/2019/01/20084856/How-Safe-is-the-2019-Toyota-Camry-A_O.png',\n",
    "    'https://content.homenetiol.com/2000292/2175740/0x0/193d3d8f09404aa7b397354b031c33ad.jpg',\n",
    "    'https://smgmedia.blob.core.windows.net/images/105075/1024/toyota-unlisted-hatchback-0f33fc2b8a52.jpg',\n",
    "    'https://www.batfa.com/photo-used-car-toyota-prius-2015-model-pearl-color.files/Prius2015pearl-rear.jpg',\n",
    "    'https://static.cargurus.com/images/site/2011/02/02/08/39/2011_hyundai_sonata_gls-pic-2044408969940823943-1600x1200.jpeg',\n",
    "    'https://m.media-amazon.com/images/I/71ZoAfzH22L._UY560_.jpg',\n",
    "    'https://autompv.ru/wp-content/uploads/2020/08/novaya-toyota-camry-ws-black-edition-2020%E2%80%942021.jpg'\n",
    "    ]\n",
    "\n",
    "# THESE ARE THE LABELS FOR URLS\n",
    "# - toyota camry white\n",
    "# - toyota camry white\n",
    "# - black merc\n",
    "# - TOYOTA_Prius_White\n",
    "# - TOYOTA_Prius_White\n",
    "# - HYUNDAI_Sonata_Silver\n",
    "# - HYUNDAI_Sonata_Silver\n",
    "# - TOYOTA_Camry_Black\n"
   ]
  },
  {
   "cell_type": "code",
   "execution_count": 28,
   "metadata": {},
   "outputs": [
    {
     "output_type": "stream",
     "name": "stdout",
     "text": [
      "photo number 1 is TOYOTA_Camry_White\n",
      "photo number 2 is TOYOTA_Camry_White\n",
      "photo number 3 is MERCEDES-BENZ_E 350_Black\n",
      "photo number 4 is TOYOTA_Prius_White\n",
      "photo number 5 is TOYOTA_Prius_White\n",
      "photo number 6 is HYUNDAI_Sonata_Silver\n",
      "photo number 7 is HYUNDAI_Sonata_Silver\n",
      "photo number 8 is TOYOTA_Camry_Black\n"
     ]
    }
   ],
   "source": [
    "# with TTA\n",
    "for idx, url in enumerate(urls):\n",
    "    print(f'photo number {idx+1} is {predict(url)}')"
   ]
  },
  {
   "cell_type": "code",
   "execution_count": 29,
   "metadata": {},
   "outputs": [
    {
     "output_type": "stream",
     "name": "stdout",
     "text": [
      "photo number 1 is TOYOTA_Camry_White\n",
      "photo number 2 is TOYOTA_Camry_White\n",
      "photo number 3 is MERCEDES-BENZ_E 350_Black\n",
      "photo number 4 is TOYOTA_Prius_White\n",
      "photo number 5 is TOYOTA_Prius_White\n",
      "photo number 6 is HYUNDAI_Sonata_Silver\n",
      "photo number 7 is HYUNDAI_Sonata_Silver\n",
      "photo number 8 is TOYOTA_Camry_Black\n"
     ]
    }
   ],
   "source": [
    "# w/o the TTA\n",
    "for idx, url in enumerate(urls):\n",
    "    print(f'photo number {idx+1} is {predict(url, tta_switch=False)}')"
   ]
  },
  {
   "cell_type": "code",
   "execution_count": null,
   "metadata": {},
   "outputs": [],
   "source": []
  }
 ]
}